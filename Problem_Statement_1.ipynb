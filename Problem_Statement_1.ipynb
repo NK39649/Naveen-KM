{
  "nbformat": 4,
  "nbformat_minor": 0,
  "metadata": {
    "colab": {
      "provenance": [],
      "authorship_tag": "ABX9TyPwIgyXeELvbqenH4lEEvpn",
      "include_colab_link": true
    },
    "kernelspec": {
      "name": "python3",
      "display_name": "Python 3"
    },
    "language_info": {
      "name": "python"
    }
  },
  "cells": [
    {
      "cell_type": "markdown",
      "metadata": {
        "id": "view-in-github",
        "colab_type": "text"
      },
      "source": [
        "<a href=\"https://colab.research.google.com/github/NK39649/Naveen-KM/blob/main/Problem_Statement_1.ipynb\" target=\"_parent\"><img src=\"https://colab.research.google.com/assets/colab-badge.svg\" alt=\"Open In Colab\"/></a>"
      ]
    },
    {
      "cell_type": "code",
      "execution_count": 6,
      "metadata": {
        "colab": {
          "base_uri": "https://localhost:8080/"
        },
        "id": "T8zkewQG_Oox",
        "outputId": "669a4cf1-5b7f-45c7-c8b5-179b90d5506e"
      },
      "outputs": [
        {
          "output_type": "stream",
          "name": "stdout",
          "text": [
            "Net amount: 300\n"
          ]
        }
      ],
      "source": [
        "import re\n",
        "\n",
        "log_message = 'D:100 W:200 D:400'\n",
        "D = [int(i) for i in re.findall(r'D:(\\d+)', log_message)]\n",
        "W = [int(j) for j in re.findall(r'W:(\\d+)', log_message)]\n",
        "\n",
        "total_d = sum(D)\n",
        "total_w = sum(W)\n",
        "\n",
        "Net_amount = total_d - total_w\n",
        "\n",
        "print(\"Net amount:\", Net_amount)"
      ]
    }
  ]
}