{
  "nbformat": 4,
  "nbformat_minor": 0,
  "metadata": {
    "colab": {
      "provenance": [],
      "authorship_tag": "ABX9TyOfpyS54t6vHygSbAAWUWqX",
      "include_colab_link": true
    },
    "kernelspec": {
      "name": "python3",
      "display_name": "Python 3"
    },
    "language_info": {
      "name": "python"
    }
  },
  "cells": [
    {
      "cell_type": "markdown",
      "metadata": {
        "id": "view-in-github",
        "colab_type": "text"
      },
      "source": [
        "<a href=\"https://colab.research.google.com/github/NK39649/Naveen-KM/blob/main/Problem_Statement_8.ipynb\" target=\"_parent\"><img src=\"https://colab.research.google.com/assets/colab-badge.svg\" alt=\"Open In Colab\"/></a>"
      ]
    },
    {
      "cell_type": "code",
      "execution_count": 3,
      "metadata": {
        "colab": {
          "base_uri": "https://localhost:8080/"
        },
        "id": "PNNbOo1vKHjK",
        "outputId": "95b209cf-e3f5-4791-a59b-3b1f1fb1bf34"
      },
      "outputs": [
        {
          "output_type": "stream",
          "name": "stdout",
          "text": [
            "XXXX\n",
            "10050\n",
            "YYYY\n",
            "10051\n"
          ]
        }
      ],
      "source": [
        "\n",
        "class Student:\n",
        "\n",
        "    def __init__(self, Name, RollNumber):\n",
        "        self.__Name = Name\n",
        "        self.__RollNumber = RollNumber\n",
        "\n",
        "    def get_Name(self):\n",
        "        return self.__Name\n",
        "\n",
        "    def set_Name(self, Name):\n",
        "        self.__Name = Name\n",
        "\n",
        "    def get_RollNumber(self):\n",
        "        return self.__RollNumber\n",
        "\n",
        "    def set_ROllNUmber(self, RollNumber):\n",
        "        self.__RollNumber = RollNumber\n",
        "\n",
        "\n",
        "sdnt1 = Student('XXXX', 10050)\n",
        "\n",
        "sdnt2 = Student('YYYY', 10051)\n",
        "print(sdnt1.get_Name())\n",
        "print(sdnt1.get_RollNumber())\n",
        "print(sdnt2.get_Name())\n",
        "print(sdnt2.get_RollNumber())"
      ]
    }
  ]
}