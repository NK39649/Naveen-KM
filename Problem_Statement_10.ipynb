{
  "nbformat": 4,
  "nbformat_minor": 0,
  "metadata": {
    "colab": {
      "provenance": [],
      "authorship_tag": "ABX9TyM4laKJD3rqq81KKROoEtZN",
      "include_colab_link": true
    },
    "kernelspec": {
      "name": "python3",
      "display_name": "Python 3"
    },
    "language_info": {
      "name": "python"
    }
  },
  "cells": [
    {
      "cell_type": "markdown",
      "metadata": {
        "id": "view-in-github",
        "colab_type": "text"
      },
      "source": [
        "<a href=\"https://colab.research.google.com/github/NK39649/Naveen-KM/blob/main/Problem_Statement_10.ipynb\" target=\"_parent\"><img src=\"https://colab.research.google.com/assets/colab-badge.svg\" alt=\"Open In Colab\"/></a>"
      ]
    },
    {
      "cell_type": "code",
      "execution_count": 3,
      "metadata": {
        "colab": {
          "base_uri": "https://localhost:8080/"
        },
        "id": "O4kQuL1RQlfH",
        "outputId": "fc46af2c-0f04-4214-db82-7a5e0e57fc82"
      },
      "outputs": [
        {
          "output_type": "stream",
          "name": "stdout",
          "text": [
            "Customer Balance is : 1700\n",
            " \n",
            "Interest amount for the customer: 100.0\n"
          ]
        }
      ],
      "source": [
        "\n",
        "class Account(object):\n",
        "\n",
        "    def __init__(self, title=None, Balance=0):\n",
        "        self.title = title\n",
        "        self.Balance = Balance\n",
        "        tran_type = 0\n",
        "\n",
        "    def accnt(self):\n",
        "        print(f' Account holder name : {self.title} \\n Account balance: {self.Balance}')\n",
        "        print(\" \")\n",
        "\n",
        "    def deposit(self, amount):\n",
        "        self.amount_dep = amount\n",
        "        Account.tran_type = 1\n",
        "\n",
        "    def withdrawal(self, amount):\n",
        "        self.amount_wd = amount\n",
        "        Account.tran_type = 2\n",
        "\n",
        "    def getBalance(self):\n",
        "\n",
        "        if Account.tran_type == 1:\n",
        "            self.Balance = self.Balance + self.amount_dep\n",
        "            print(f'Customer Balance is : {self.Balance}')\n",
        "\n",
        "        elif Account.tran_type == 2:\n",
        "            self.Balance = self.Balance - self.amount_wd\n",
        "            print(f'Customer Balance is : {self.Balance}\\n ')\n",
        "\n",
        "\n",
        "class SavingsAccount(Account):\n",
        "\n",
        "    def __init__(self, title=None, Balance=0, interestRate=0):\n",
        "        super().__init__(title, Balance)\n",
        "        self.interestRate = interestRate\n",
        "\n",
        "    def interestAmount(self):\n",
        "        interestAmount = (self.interestRate * self.Balance) / 100\n",
        "        print(f'Interest amount for the customer: {interestAmount}')\n",
        "\n",
        "\n",
        "customer1 = Account('Ashish', 2000)\n",
        "\n",
        "customer1.withdrawal(300)\n",
        "\n",
        "\n",
        "customer1.getBalance()\n",
        "\n",
        "customer2 = SavingsAccount('Ashish', 2000, 5)\n",
        "\n",
        "customer2.interestAmount()"
      ]
    }
  ]
}