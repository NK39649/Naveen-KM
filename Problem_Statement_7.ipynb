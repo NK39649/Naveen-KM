{
  "nbformat": 4,
  "nbformat_minor": 0,
  "metadata": {
    "colab": {
      "provenance": [],
      "authorship_tag": "ABX9TyM6DcVCcZSmxxHNRls07GYE",
      "include_colab_link": true
    },
    "kernelspec": {
      "name": "python3",
      "display_name": "Python 3"
    },
    "language_info": {
      "name": "python"
    }
  },
  "cells": [
    {
      "cell_type": "markdown",
      "metadata": {
        "id": "view-in-github",
        "colab_type": "text"
      },
      "source": [
        "<a href=\"https://colab.research.google.com/github/NK39649/Naveen-KM/blob/main/Problem_Statement_7.ipynb\" target=\"_parent\"><img src=\"https://colab.research.google.com/assets/colab-badge.svg\" alt=\"Open In Colab\"/></a>"
      ]
    },
    {
      "cell_type": "code",
      "execution_count": 5,
      "metadata": {
        "colab": {
          "base_uri": "https://localhost:8080/"
        },
        "id": "eTkxA1jhHUyM",
        "outputId": "b1bee3f2-b043-4264-b1c1-7fdeb6518ca4"
      },
      "outputs": [
        {
          "output_type": "stream",
          "name": "stdout",
          "text": [
            "104\n",
            "84\n",
            "940\n",
            "9.4\n"
          ]
        }
      ],
      "source": [
        "\n",
        "\n",
        "\n",
        "class Calculator:\n",
        "\n",
        "    def __init__(self,num1,num2):\n",
        "        self.num1=num1\n",
        "        self.num2=num2\n",
        "\n",
        "    def add(self):\n",
        "        add=self.num1 +self.num2\n",
        "        print(add)\n",
        "\n",
        "    def subtract(self):\n",
        "        sub=self.num2-self.num1\n",
        "        print(sub)\n",
        "\n",
        "    def multiply(self):\n",
        "        mul=self.num1*self.num2\n",
        "        print(mul)\n",
        "\n",
        "    def divide(self):\n",
        "        div=self.num2/self.num1\n",
        "        print(div)\n",
        "\n",
        "obj=Calculator(10,94)\n",
        "\n",
        "obj.add()\n",
        "obj.subtract()\n",
        "obj.multiply()\n",
        "obj.divide()"
      ]
    }
  ]
}