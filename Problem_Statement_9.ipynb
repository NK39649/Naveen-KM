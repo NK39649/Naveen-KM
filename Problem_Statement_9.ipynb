{
  "nbformat": 4,
  "nbformat_minor": 0,
  "metadata": {
    "colab": {
      "provenance": [],
      "authorship_tag": "ABX9TyNUTtu2uEFuXxdL5v9GSKia",
      "include_colab_link": true
    },
    "kernelspec": {
      "name": "python3",
      "display_name": "Python 3"
    },
    "language_info": {
      "name": "python"
    }
  },
  "cells": [
    {
      "cell_type": "markdown",
      "metadata": {
        "id": "view-in-github",
        "colab_type": "text"
      },
      "source": [
        "<a href=\"https://colab.research.google.com/github/NK39649/Naveen-KM/blob/main/Problem_Statement_9.ipynb\" target=\"_parent\"><img src=\"https://colab.research.google.com/assets/colab-badge.svg\" alt=\"Open In Colab\"/></a>"
      ]
    },
    {
      "cell_type": "code",
      "execution_count": 3,
      "metadata": {
        "colab": {
          "base_uri": "https://localhost:8080/"
        },
        "id": "qDHZQvu5M6hq",
        "outputId": "2c8b39dc-36e8-4d29-dbef-0c8c1e949a65"
      },
      "outputs": [
        {
          "output_type": "stream",
          "name": "stdout",
          "text": [
            " Account holder name : Ashish \n",
            " Account balance: 5000\n",
            "\n",
            " Savings Account holder name : Ashish \n",
            " Accout balance: 5000 \n",
            " Interest Rate:5\n"
          ]
        }
      ],
      "source": [
        "\n",
        "\n",
        "class Account(object):\n",
        "\n",
        "  def __init__(self, title=None, Balance=0):\n",
        "    self.title=title\n",
        "    self.Balance=Balance\n",
        "\n",
        "  def accnt(self):\n",
        "    print(f' Account holder name : {self.title} \\n Account balance: {self.Balance}')\n",
        "    print(\"\")\n",
        "\n",
        "class SavingsAccount(Account):\n",
        "\n",
        "  def __init__(self,title=None, Balance=0, interestRate=0):\n",
        "    self.interestRate = interestRate\n",
        "\n",
        "    Account.__init__(self, title, Balance)\n",
        "\n",
        "  def sav_accnt(self):\n",
        "    print(f' Savings Account holder name : {self.title} \\n Accout balance: {self.Balance} \\n Interest Rate:{self.interestRate}')\n",
        "\n",
        "customer1=Account('Ashish',5000)\n",
        "\n",
        "customer2=SavingsAccount(\"Ashish\",5000,5)\n",
        "\n",
        "customer1.accnt()\n",
        "\n",
        "customer2.sav_accnt()"
      ]
    }
  ]
}