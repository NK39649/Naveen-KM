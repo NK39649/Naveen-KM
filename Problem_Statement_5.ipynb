{
  "nbformat": 4,
  "nbformat_minor": 0,
  "metadata": {
    "colab": {
      "provenance": [],
      "authorship_tag": "ABX9TyN/hppAE2lC/CNayp6iKTYy",
      "include_colab_link": true
    },
    "kernelspec": {
      "name": "python3",
      "display_name": "Python 3"
    },
    "language_info": {
      "name": "python"
    }
  },
  "cells": [
    {
      "cell_type": "markdown",
      "metadata": {
        "id": "view-in-github",
        "colab_type": "text"
      },
      "source": [
        "<a href=\"https://colab.research.google.com/github/NK39649/Naveen-KM/blob/main/Problem_Statement_5.ipynb\" target=\"_parent\"><img src=\"https://colab.research.google.com/assets/colab-badge.svg\" alt=\"Open In Colab\"/></a>"
      ]
    },
    {
      "cell_type": "code",
      "execution_count": 2,
      "metadata": {
        "colab": {
          "base_uri": "https://localhost:8080/"
        },
        "id": "MJ6wnE2ryGy6",
        "outputId": "116cf1f8-caa6-450d-b684-2eef30fbd632"
      },
      "outputs": [
        {
          "output_type": "stream",
          "name": "stdout",
          "text": [
            "enter a string :The quick Brow Fox\n",
            "Upper case characters = 3\n",
            "Lower case characters = 12\n"
          ]
        }
      ],
      "source": [
        "#Sample String : 'The quick Brow Fox'\n",
        "\n",
        "value=input(\"enter a string :\")\n",
        "upper = 0\n",
        "lower = 0\n",
        "x=\"ABCDEFGHIJKLMNOPQRSTUVWXYZ\"\n",
        "y=\"abcdefghijklmnopqrstuvwxyz\"\n",
        "for i in value:\n",
        "    if i in x:\n",
        "        upper+=1\n",
        "    elif i in y:\n",
        "        lower+=1\n",
        "print('Upper case characters =',upper)\n",
        "print('Lower case characters =',lower)"
      ]
    }
  ]
}