{
  "nbformat": 4,
  "nbformat_minor": 0,
  "metadata": {
    "colab": {
      "provenance": [],
      "authorship_tag": "ABX9TyOmj1k/OnaJqxzSIYDA+Yt1",
      "include_colab_link": true
    },
    "kernelspec": {
      "name": "python3",
      "display_name": "Python 3"
    },
    "language_info": {
      "name": "python"
    }
  },
  "cells": [
    {
      "cell_type": "markdown",
      "metadata": {
        "id": "view-in-github",
        "colab_type": "text"
      },
      "source": [
        "<a href=\"https://colab.research.google.com/github/NK39649/Naveen-KM/blob/main/Problem_Statement_2.ipynb\" target=\"_parent\"><img src=\"https://colab.research.google.com/assets/colab-badge.svg\" alt=\"Open In Colab\"/></a>"
      ]
    },
    {
      "cell_type": "code",
      "execution_count": 1,
      "metadata": {
        "colab": {
          "base_uri": "https://localhost:8080/"
        },
        "id": "uA2D1M4YzBcM",
        "outputId": "bb8d3df7-d4ba-4a51-85c4-a0fd46b2d3fb"
      },
      "outputs": [
        {
          "output_type": "stream",
          "name": "stdout",
          "text": [
            "Enter no of calls:201\n",
            "monthly telephone bills is 255.4\n"
          ]
        }
      ],
      "source": [
        "x=int(input(\"Enter no of calls:\"))\n",
        "\n",
        "if x <= 100:\n",
        "  print(\"monthly telephone bills is 200\")\n",
        "elif x <=150:\n",
        "   i=200+((x-100)*0.60)\n",
        "   print(\"monthly telephone bills is\",i)\n",
        "elif x <=200:\n",
        "  j=230+((x-150)*0.50)\n",
        "  print(\"monthly telephone bills is\",j)\n",
        "elif x > 200:\n",
        "  k=255+((x-200)*0.40)\n",
        "  print(\"monthly telephone bills is\",k)"
      ]
    }
  ]
}